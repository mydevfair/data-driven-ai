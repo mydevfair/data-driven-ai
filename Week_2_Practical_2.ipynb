{
  "nbformat": 4,
  "nbformat_minor": 0,
  "metadata": {
    "colab": {
      "provenance": [],
      "gpuType": "T4"
    },
    "kernelspec": {
      "name": "python3",
      "display_name": "Python 3"
    },
    "language_info": {
      "name": "python"
    },
    "accelerator": "GPU"
  },
  "cells": [
    {
      "cell_type": "code",
      "execution_count": 53,
      "metadata": {
        "id": "v1IL51sLbJT1"
      },
      "outputs": [],
      "source": [
        "import pandas as pd\n",
        "\n",
        "fulldata_df = pd.read_csv(\"/content/online_store_customer_data.csv\")"
      ]
    },
    {
      "cell_type": "code",
      "source": [
        "print(fulldata_df.shape)\n",
        "\n",
        "# Number of columns = 11\n"
      ],
      "metadata": {
        "colab": {
          "base_uri": "https://localhost:8080/"
        },
        "id": "eG3u2mQ5b0aJ",
        "outputId": "1db3e242-a4c3-4838-8450-8e1632912194"
      },
      "execution_count": 54,
      "outputs": [
        {
          "output_type": "stream",
          "name": "stdout",
          "text": [
            "(2512, 11)\n"
          ]
        }
      ]
    },
    {
      "cell_type": "code",
      "source": [
        "print(fulldata_df.describe())"
      ],
      "metadata": {
        "colab": {
          "base_uri": "https://localhost:8080/"
        },
        "id": "G-xblTQIdYBo",
        "outputId": "518c2ec5-3133-4039-e9b4-7b13f7c8e55b"
      },
      "execution_count": 55,
      "outputs": [
        {
          "output_type": "stream",
          "name": "stdout",
          "text": [
            "       Transaction_ID          Age      Referal  Amount_spent\n",
            "count     2512.000000  2470.000000  2357.000000   2270.000000\n",
            "mean    152443.931131    46.637652     0.652100   1418.422577\n",
            "std        724.580482    18.186277     0.476405    878.507451\n",
            "min     151200.000000    15.000000     0.000000      2.090000\n",
            "25%     151815.750000    32.000000     0.000000    678.192500\n",
            "50%     152443.500000    47.000000     1.000000   1341.435000\n",
            "75%     153071.250000    62.000000     1.000000   2038.102500\n",
            "max     153699.000000    78.000000     1.000000   2999.980000\n"
          ]
        }
      ]
    },
    {
      "cell_type": "code",
      "source": [
        "print(fulldata_df.info())"
      ],
      "metadata": {
        "colab": {
          "base_uri": "https://localhost:8080/"
        },
        "id": "1xpKCL4ReCDl",
        "outputId": "a4a840b8-037e-4ff1-93da-dba1d5034fef"
      },
      "execution_count": 56,
      "outputs": [
        {
          "output_type": "stream",
          "name": "stdout",
          "text": [
            "<class 'pandas.core.frame.DataFrame'>\n",
            "RangeIndex: 2512 entries, 0 to 2511\n",
            "Data columns (total 11 columns):\n",
            " #   Column            Non-Null Count  Dtype  \n",
            "---  ------            --------------  -----  \n",
            " 0   Transaction_date  2512 non-null   object \n",
            " 1   Transaction_ID    2512 non-null   int64  \n",
            " 2   Gender            2484 non-null   object \n",
            " 3   Age               2470 non-null   float64\n",
            " 4   Marital_status    2512 non-null   object \n",
            " 5   State_names       2512 non-null   object \n",
            " 6   Segment           2512 non-null   object \n",
            " 7   Employees_status  2486 non-null   object \n",
            " 8   Payment_method    2512 non-null   object \n",
            " 9   Referal           2357 non-null   float64\n",
            " 10  Amount_spent      2270 non-null   float64\n",
            "dtypes: float64(3), int64(1), object(7)\n",
            "memory usage: 216.0+ KB\n",
            "None\n"
          ]
        }
      ]
    },
    {
      "cell_type": "code",
      "source": [
        "print(fulldata_df['Gender'].value_counts())"
      ],
      "metadata": {
        "colab": {
          "base_uri": "https://localhost:8080/"
        },
        "id": "p-kA_o1PeiNs",
        "outputId": "13bde7bb-7d61-463f-d3e9-f4a491f4b1ff"
      },
      "execution_count": 57,
      "outputs": [
        {
          "output_type": "stream",
          "name": "stdout",
          "text": [
            "Gender\n",
            "Female    1356\n",
            "Male      1128\n",
            "Name: count, dtype: int64\n"
          ]
        }
      ]
    },
    {
      "cell_type": "code",
      "source": [
        "print(fulldata_df['Marital_status'].value_counts())"
      ],
      "metadata": {
        "colab": {
          "base_uri": "https://localhost:8080/"
        },
        "id": "nD3QAVchett7",
        "outputId": "389c8963-0525-4b31-a501-da030e88a940"
      },
      "execution_count": 58,
      "outputs": [
        {
          "output_type": "stream",
          "name": "stdout",
          "text": [
            "Marital_status\n",
            "Married    1473\n",
            "Single     1039\n",
            "Name: count, dtype: int64\n"
          ]
        }
      ]
    },
    {
      "cell_type": "code",
      "source": [
        "print(fulldata_df['Payment_method'].value_counts())"
      ],
      "metadata": {
        "colab": {
          "base_uri": "https://localhost:8080/"
        },
        "id": "PDgTo_KwezQ7",
        "outputId": "a4b30b48-7e57-4d45-e27d-3f6cfaaf37a7"
      },
      "execution_count": 59,
      "outputs": [
        {
          "output_type": "stream",
          "name": "stdout",
          "text": [
            "Payment_method\n",
            "PayPal    1168\n",
            "Card       749\n",
            "Other      595\n",
            "Name: count, dtype: int64\n"
          ]
        }
      ]
    },
    {
      "cell_type": "code",
      "source": [
        "print(fulldata_df.isnull().sum())"
      ],
      "metadata": {
        "colab": {
          "base_uri": "https://localhost:8080/"
        },
        "id": "hh6DkY_6e70L",
        "outputId": "b32934dd-db25-42ed-a3e4-3ea7c85486df"
      },
      "execution_count": 60,
      "outputs": [
        {
          "output_type": "stream",
          "name": "stdout",
          "text": [
            "Transaction_date      0\n",
            "Transaction_ID        0\n",
            "Gender               28\n",
            "Age                  42\n",
            "Marital_status        0\n",
            "State_names           0\n",
            "Segment               0\n",
            "Employees_status     26\n",
            "Payment_method        0\n",
            "Referal             155\n",
            "Amount_spent        242\n",
            "dtype: int64\n"
          ]
        }
      ]
    },
    {
      "cell_type": "code",
      "source": [
        "print(fulldata_df.isna().sum())"
      ],
      "metadata": {
        "colab": {
          "base_uri": "https://localhost:8080/"
        },
        "id": "Wrmb_PgGfDY7",
        "outputId": "1b190310-bc3f-4ea9-b319-77940be15aa0"
      },
      "execution_count": 61,
      "outputs": [
        {
          "output_type": "stream",
          "name": "stdout",
          "text": [
            "Transaction_date      0\n",
            "Transaction_ID        0\n",
            "Gender               28\n",
            "Age                  42\n",
            "Marital_status        0\n",
            "State_names           0\n",
            "Segment               0\n",
            "Employees_status     26\n",
            "Payment_method        0\n",
            "Referal             155\n",
            "Amount_spent        242\n",
            "dtype: int64\n"
          ]
        }
      ]
    },
    {
      "cell_type": "code",
      "source": [
        "mean_age = fulldata_df['Age'].mean()\n",
        "print(mean_age)"
      ],
      "metadata": {
        "colab": {
          "base_uri": "https://localhost:8080/"
        },
        "id": "jwYffZ5gfbrL",
        "outputId": "6de85646-7e93-4bca-e44b-2419a34d7fc3"
      },
      "execution_count": 62,
      "outputs": [
        {
          "output_type": "stream",
          "name": "stdout",
          "text": [
            "46.63765182186235\n"
          ]
        }
      ]
    },
    {
      "cell_type": "code",
      "source": [
        "fulldata_df['Age'] = fulldata_df['Age'].fillna(mean_age)\n",
        "print(fulldata_df['Age'].isnull().sum())"
      ],
      "metadata": {
        "colab": {
          "base_uri": "https://localhost:8080/"
        },
        "id": "7GzLYrLiflIq",
        "outputId": "4780bfe8-b8ac-4479-bed1-603ce9d431f2"
      },
      "execution_count": 65,
      "outputs": [
        {
          "output_type": "stream",
          "name": "stdout",
          "text": [
            "0\n"
          ]
        }
      ]
    },
    {
      "cell_type": "code",
      "source": [
        "mean_amount_spent = fulldata_df['Amount_spent'].mean()\n",
        "print(mean_amount_spent)"
      ],
      "metadata": {
        "colab": {
          "base_uri": "https://localhost:8080/"
        },
        "id": "7gaQbyvcfz6U",
        "outputId": "d4e7f559-a882-4ede-927a-fd3c76efd450"
      },
      "execution_count": 66,
      "outputs": [
        {
          "output_type": "stream",
          "name": "stdout",
          "text": [
            "1418.4225770925111\n"
          ]
        }
      ]
    },
    {
      "cell_type": "code",
      "source": [
        "fulldata_df['Amount_spent'] = fulldata_df['Amount_spent'].fillna(mean_amount_spent)\n",
        "print(fulldata_df['Amount_spent'].isnull().sum())"
      ],
      "metadata": {
        "colab": {
          "base_uri": "https://localhost:8080/"
        },
        "id": "_XZoSxV-gFD6",
        "outputId": "c3ac4201-f27c-4f96-9239-10fef264e562"
      },
      "execution_count": 67,
      "outputs": [
        {
          "output_type": "stream",
          "name": "stdout",
          "text": [
            "0\n"
          ]
        }
      ]
    },
    {
      "cell_type": "code",
      "source": [
        "mode_gender = fulldata_df['Gender'].mode().iloc[0]\n",
        "print(mode_gender)"
      ],
      "metadata": {
        "colab": {
          "base_uri": "https://localhost:8080/"
        },
        "id": "LI9_Rt_zgQQB",
        "outputId": "23ed4a46-d42d-4a98-a13c-8dbe9f5881a1"
      },
      "execution_count": 68,
      "outputs": [
        {
          "output_type": "stream",
          "name": "stdout",
          "text": [
            "Female\n"
          ]
        }
      ]
    },
    {
      "cell_type": "code",
      "source": [
        "fulldata_df['Gender'] = fulldata_df['Gender'].fillna(mode_gender)\n",
        "print(fulldata_df['Gender'].isnull().sum())"
      ],
      "metadata": {
        "colab": {
          "base_uri": "https://localhost:8080/"
        },
        "id": "wWiPq41ugYUy",
        "outputId": "4f3e47f0-0bc0-42b5-f7b3-fc8b16688a20"
      },
      "execution_count": 69,
      "outputs": [
        {
          "output_type": "stream",
          "name": "stdout",
          "text": [
            "0\n"
          ]
        }
      ]
    },
    {
      "cell_type": "code",
      "source": [
        "mode_employees_status = fulldata_df['Employees_status'].mode().iloc[0]\n",
        "print(mode_employees_status)"
      ],
      "metadata": {
        "colab": {
          "base_uri": "https://localhost:8080/"
        },
        "id": "VSPBWCtagb1R",
        "outputId": "d0dc634a-f93e-489a-9e04-cccf31cdd93b"
      },
      "execution_count": 70,
      "outputs": [
        {
          "output_type": "stream",
          "name": "stdout",
          "text": [
            "Employees\n"
          ]
        }
      ]
    },
    {
      "cell_type": "code",
      "source": [
        "fulldata_df['Employees_status'] = fulldata_df['Employees_status'].fillna(mode_employees_status)\n",
        "print(fulldata_df['Employees_status'].isnull().sum())"
      ],
      "metadata": {
        "colab": {
          "base_uri": "https://localhost:8080/"
        },
        "id": "HqqXj5NLghiw",
        "outputId": "d5fee15c-712b-42be-bc78-63d1539939f9"
      },
      "execution_count": 71,
      "outputs": [
        {
          "output_type": "stream",
          "name": "stdout",
          "text": [
            "0\n"
          ]
        }
      ]
    },
    {
      "cell_type": "code",
      "source": [
        "mean_referal = fulldata_df['Referal'].mean()\n",
        "print(mean_referal)"
      ],
      "metadata": {
        "colab": {
          "base_uri": "https://localhost:8080/"
        },
        "id": "jX7vSmqzgyWy",
        "outputId": "66a35ecb-52f4-49db-bfc0-a3439ffbbf0d"
      },
      "execution_count": 72,
      "outputs": [
        {
          "output_type": "stream",
          "name": "stdout",
          "text": [
            "0.6521001272804412\n"
          ]
        }
      ]
    },
    {
      "cell_type": "code",
      "source": [
        "fulldata_df['Referal'] = fulldata_df['Referal'].fillna(mean_referal)\n",
        "print(fulldata_df['Referal'].isnull().sum())"
      ],
      "metadata": {
        "colab": {
          "base_uri": "https://localhost:8080/"
        },
        "id": "0DyC2Ktig3TA",
        "outputId": "01fa151c-e52a-475e-de45-f568a4b0dfbc"
      },
      "execution_count": 73,
      "outputs": [
        {
          "output_type": "stream",
          "name": "stdout",
          "text": [
            "0\n"
          ]
        }
      ]
    },
    {
      "cell_type": "code",
      "source": [
        "print(fulldata_df.isnull().sum())"
      ],
      "metadata": {
        "colab": {
          "base_uri": "https://localhost:8080/"
        },
        "id": "6XFOQg6Wg7yo",
        "outputId": "d5dded41-2208-460f-fbaf-d958daeff23f"
      },
      "execution_count": 74,
      "outputs": [
        {
          "output_type": "stream",
          "name": "stdout",
          "text": [
            "Transaction_date    0\n",
            "Transaction_ID      0\n",
            "Gender              0\n",
            "Age                 0\n",
            "Marital_status      0\n",
            "State_names         0\n",
            "Segment             0\n",
            "Employees_status    0\n",
            "Payment_method      0\n",
            "Referal             0\n",
            "Amount_spent        0\n",
            "dtype: int64\n"
          ]
        }
      ]
    }
  ]
}