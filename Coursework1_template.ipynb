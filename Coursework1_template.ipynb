{
  "cells": [
    {
      "cell_type": "markdown",
      "metadata": {
        "id": "view-in-github",
        "colab_type": "text"
      },
      "source": [
        "<a href=\"https://colab.research.google.com/github/mydevfair/data-driven-ai/blob/main/Coursework1_template.ipynb\" target=\"_parent\"><img src=\"https://colab.research.google.com/assets/colab-badge.svg\" alt=\"Open In Colab\"/></a>"
      ]
    },
    {
      "cell_type": "markdown",
      "metadata": {
        "id": "T5PuoTGxM25j"
      },
      "source": [
        "# Hotel Booking Cancallation Prediction"
      ]
    },
    {
      "cell_type": "markdown",
      "metadata": {
        "id": "0Q8SI3lyNoHH"
      },
      "source": [
        "**Load Data**\n",
        "\n",
        "Load Hotel_Booking/hotel_bookings.csv file provided on Brightspace."
      ]
    },
    {
      "cell_type": "code",
      "source": [
        "from google.colab import drive\n",
        "drive.mount('/content/drive')"
      ],
      "metadata": {
        "colab": {
          "base_uri": "https://localhost:8080/"
        },
        "id": "EwzNJvntQwtS",
        "outputId": "8c1d2231-b3b4-490f-ccc7-f80b9cd89ca5"
      },
      "execution_count": 1,
      "outputs": [
        {
          "output_type": "stream",
          "name": "stdout",
          "text": [
            "Mounted at /content/drive\n"
          ]
        }
      ]
    },
    {
      "cell_type": "code",
      "source": [
        "import pandas as pd\n",
        "import numpy as np\n",
        "import matplotlib.pyplot as plt\n",
        "import seaborn as sns\n",
        "from sklearn.tree import DecisionTreeClassifier\n",
        "from sklearn.model_selection import train_test_split\n",
        "from sklearn.metrics import classification_report, confusion_matrix\n",
        "from sklearn import metrics\n",
        "from sklearn.preprocessing import MinMaxScaler, StandardScaler"
      ],
      "metadata": {
        "id": "cLmvJ8RAReye"
      },
      "execution_count": 2,
      "outputs": []
    },
    {
      "cell_type": "code",
      "execution_count": 3,
      "metadata": {
        "id": "fdv3RPXnOfvf"
      },
      "outputs": [],
      "source": [
        "df = pd.read_csv('/content/drive/MyDrive/hotel_bookings.csv')"
      ]
    },
    {
      "cell_type": "code",
      "source": [
        "# Check dataset shape\n",
        "print(\"Dataset shape:\", df.shape)\n",
        "\n",
        "# Display first few rows\n",
        "print(\"\\nFirst 5 rows:\")\n",
        "print(df.head())\n",
        "\n",
        "# Display column names\n",
        "print(\"\\nColumn names:\")\n",
        "print(df.columns.tolist())\n",
        "\n",
        "# Display data types and missing values\n",
        "print(\"\\nDataset info:\")\n",
        "df.info()\n",
        "\n",
        "# Display basic statistics\n",
        "print(\"\\nBasic statistics:\")\n",
        "print(df.describe())"
      ],
      "metadata": {
        "colab": {
          "base_uri": "https://localhost:8080/"
        },
        "id": "5zs_Xe2_SVnE",
        "outputId": "32d392d1-5347-4db7-bba9-860afe57a8fb"
      },
      "execution_count": 4,
      "outputs": [
        {
          "output_type": "stream",
          "name": "stdout",
          "text": [
            "Dataset shape: (119390, 32)\n",
            "\n",
            "First 5 rows:\n",
            "          hotel  is_canceled  lead_time  arrival_date_year arrival_date_month  \\\n",
            "0  Resort Hotel            0        342               2015               July   \n",
            "1  Resort Hotel            0        737               2015               July   \n",
            "2  Resort Hotel            0          7               2015               July   \n",
            "3  Resort Hotel            0         13               2015               July   \n",
            "4  Resort Hotel            0         14               2015               July   \n",
            "\n",
            "   arrival_date_week_number  arrival_date_day_of_month  \\\n",
            "0                        27                          1   \n",
            "1                        27                          1   \n",
            "2                        27                          1   \n",
            "3                        27                          1   \n",
            "4                        27                          1   \n",
            "\n",
            "   stays_in_weekend_nights  stays_in_week_nights  adults  ...  deposit_type  \\\n",
            "0                        0                     0       2  ...    No Deposit   \n",
            "1                        0                     0       2  ...    No Deposit   \n",
            "2                        0                     1       1  ...    No Deposit   \n",
            "3                        0                     1       1  ...    No Deposit   \n",
            "4                        0                     2       2  ...    No Deposit   \n",
            "\n",
            "   agent company days_in_waiting_list customer_type   adr  \\\n",
            "0    NaN     NaN                    0     Transient   0.0   \n",
            "1    NaN     NaN                    0     Transient   0.0   \n",
            "2    NaN     NaN                    0     Transient  75.0   \n",
            "3  304.0     NaN                    0     Transient  75.0   \n",
            "4  240.0     NaN                    0     Transient  98.0   \n",
            "\n",
            "   required_car_parking_spaces  total_of_special_requests  reservation_status  \\\n",
            "0                            0                          0           Check-Out   \n",
            "1                            0                          0           Check-Out   \n",
            "2                            0                          0           Check-Out   \n",
            "3                            0                          0           Check-Out   \n",
            "4                            0                          1           Check-Out   \n",
            "\n",
            "  reservation_status_date  \n",
            "0              2015-07-01  \n",
            "1              2015-07-01  \n",
            "2              2015-07-02  \n",
            "3              2015-07-02  \n",
            "4              2015-07-03  \n",
            "\n",
            "[5 rows x 32 columns]\n",
            "\n",
            "Column names:\n",
            "['hotel', 'is_canceled', 'lead_time', 'arrival_date_year', 'arrival_date_month', 'arrival_date_week_number', 'arrival_date_day_of_month', 'stays_in_weekend_nights', 'stays_in_week_nights', 'adults', 'children', 'babies', 'meal', 'country', 'market_segment', 'distribution_channel', 'is_repeated_guest', 'previous_cancellations', 'previous_bookings_not_canceled', 'reserved_room_type', 'assigned_room_type', 'booking_changes', 'deposit_type', 'agent', 'company', 'days_in_waiting_list', 'customer_type', 'adr', 'required_car_parking_spaces', 'total_of_special_requests', 'reservation_status', 'reservation_status_date']\n",
            "\n",
            "Dataset info:\n",
            "<class 'pandas.core.frame.DataFrame'>\n",
            "RangeIndex: 119390 entries, 0 to 119389\n",
            "Data columns (total 32 columns):\n",
            " #   Column                          Non-Null Count   Dtype  \n",
            "---  ------                          --------------   -----  \n",
            " 0   hotel                           119390 non-null  object \n",
            " 1   is_canceled                     119390 non-null  int64  \n",
            " 2   lead_time                       119390 non-null  int64  \n",
            " 3   arrival_date_year               119390 non-null  int64  \n",
            " 4   arrival_date_month              119390 non-null  object \n",
            " 5   arrival_date_week_number        119390 non-null  int64  \n",
            " 6   arrival_date_day_of_month       119390 non-null  int64  \n",
            " 7   stays_in_weekend_nights         119390 non-null  int64  \n",
            " 8   stays_in_week_nights            119390 non-null  int64  \n",
            " 9   adults                          119390 non-null  int64  \n",
            " 10  children                        119386 non-null  float64\n",
            " 11  babies                          119390 non-null  int64  \n",
            " 12  meal                            119390 non-null  object \n",
            " 13  country                         118902 non-null  object \n",
            " 14  market_segment                  119390 non-null  object \n",
            " 15  distribution_channel            119390 non-null  object \n",
            " 16  is_repeated_guest               119390 non-null  int64  \n",
            " 17  previous_cancellations          119390 non-null  int64  \n",
            " 18  previous_bookings_not_canceled  119390 non-null  int64  \n",
            " 19  reserved_room_type              119390 non-null  object \n",
            " 20  assigned_room_type              119390 non-null  object \n",
            " 21  booking_changes                 119390 non-null  int64  \n",
            " 22  deposit_type                    119390 non-null  object \n",
            " 23  agent                           103050 non-null  float64\n",
            " 24  company                         6797 non-null    float64\n",
            " 25  days_in_waiting_list            119390 non-null  int64  \n",
            " 26  customer_type                   119390 non-null  object \n",
            " 27  adr                             119390 non-null  float64\n",
            " 28  required_car_parking_spaces     119390 non-null  int64  \n",
            " 29  total_of_special_requests       119390 non-null  int64  \n",
            " 30  reservation_status              119390 non-null  object \n",
            " 31  reservation_status_date         119390 non-null  object \n",
            "dtypes: float64(4), int64(16), object(12)\n",
            "memory usage: 29.1+ MB\n",
            "\n",
            "Basic statistics:\n",
            "         is_canceled      lead_time  arrival_date_year  \\\n",
            "count  119390.000000  119390.000000      119390.000000   \n",
            "mean        0.370416     104.011416        2016.156554   \n",
            "std         0.482918     106.863097           0.707476   \n",
            "min         0.000000       0.000000        2015.000000   \n",
            "25%         0.000000      18.000000        2016.000000   \n",
            "50%         0.000000      69.000000        2016.000000   \n",
            "75%         1.000000     160.000000        2017.000000   \n",
            "max         1.000000     737.000000        2017.000000   \n",
            "\n",
            "       arrival_date_week_number  arrival_date_day_of_month  \\\n",
            "count             119390.000000              119390.000000   \n",
            "mean                  27.165173                  15.798241   \n",
            "std                   13.605138                   8.780829   \n",
            "min                    1.000000                   1.000000   \n",
            "25%                   16.000000                   8.000000   \n",
            "50%                   28.000000                  16.000000   \n",
            "75%                   38.000000                  23.000000   \n",
            "max                   53.000000                  31.000000   \n",
            "\n",
            "       stays_in_weekend_nights  stays_in_week_nights         adults  \\\n",
            "count            119390.000000         119390.000000  119390.000000   \n",
            "mean                  0.927599              2.500302       1.856403   \n",
            "std                   0.998613              1.908286       0.579261   \n",
            "min                   0.000000              0.000000       0.000000   \n",
            "25%                   0.000000              1.000000       2.000000   \n",
            "50%                   1.000000              2.000000       2.000000   \n",
            "75%                   2.000000              3.000000       2.000000   \n",
            "max                  19.000000             50.000000      55.000000   \n",
            "\n",
            "            children         babies  is_repeated_guest  \\\n",
            "count  119386.000000  119390.000000      119390.000000   \n",
            "mean        0.103890       0.007949           0.031912   \n",
            "std         0.398561       0.097436           0.175767   \n",
            "min         0.000000       0.000000           0.000000   \n",
            "25%         0.000000       0.000000           0.000000   \n",
            "50%         0.000000       0.000000           0.000000   \n",
            "75%         0.000000       0.000000           0.000000   \n",
            "max        10.000000      10.000000           1.000000   \n",
            "\n",
            "       previous_cancellations  previous_bookings_not_canceled  \\\n",
            "count           119390.000000                   119390.000000   \n",
            "mean                 0.087118                        0.137097   \n",
            "std                  0.844336                        1.497437   \n",
            "min                  0.000000                        0.000000   \n",
            "25%                  0.000000                        0.000000   \n",
            "50%                  0.000000                        0.000000   \n",
            "75%                  0.000000                        0.000000   \n",
            "max                 26.000000                       72.000000   \n",
            "\n",
            "       booking_changes          agent      company  days_in_waiting_list  \\\n",
            "count    119390.000000  103050.000000  6797.000000         119390.000000   \n",
            "mean          0.221124      86.693382   189.266735              2.321149   \n",
            "std           0.652306     110.774548   131.655015             17.594721   \n",
            "min           0.000000       1.000000     6.000000              0.000000   \n",
            "25%           0.000000       9.000000    62.000000              0.000000   \n",
            "50%           0.000000      14.000000   179.000000              0.000000   \n",
            "75%           0.000000     229.000000   270.000000              0.000000   \n",
            "max          21.000000     535.000000   543.000000            391.000000   \n",
            "\n",
            "                 adr  required_car_parking_spaces  total_of_special_requests  \n",
            "count  119390.000000                119390.000000              119390.000000  \n",
            "mean      101.831122                     0.062518                   0.571363  \n",
            "std        50.535790                     0.245291                   0.792798  \n",
            "min        -6.380000                     0.000000                   0.000000  \n",
            "25%        69.290000                     0.000000                   0.000000  \n",
            "50%        94.575000                     0.000000                   0.000000  \n",
            "75%       126.000000                     0.000000                   1.000000  \n",
            "max      5400.000000                     8.000000                   5.000000  \n"
          ]
        }
      ]
    },
    {
      "cell_type": "markdown",
      "metadata": {
        "id": "NauE96owM3sR"
      },
      "source": [
        "# 1. Data Pre-processing (25%)\n",
        "\n",
        "\n",
        "---\n",
        "\n",
        "\n",
        "\n",
        "\n"
      ]
    },
    {
      "cell_type": "markdown",
      "metadata": {
        "id": "HZLqyiLUOnrV"
      },
      "source": [
        "**Drop irrelevant columns**\n",
        "\n",
        "It will significantly reduce the time and effort you need to invest. As a general guideline, columns containing IDs, dates, or irrelevant information are typically considered redundant and offer little value for predictive analysis."
      ]
    },
    {
      "cell_type": "code",
      "execution_count": 5,
      "metadata": {
        "id": "GSWv5wCDQyBM",
        "colab": {
          "base_uri": "https://localhost:8080/"
        },
        "outputId": "b39363f1-68b5-49b8-ad3c-ec627f02d290"
      },
      "outputs": [
        {
          "output_type": "stream",
          "name": "stdout",
          "text": [
            "(119390, 26)\n",
            "hotel\n",
            "is_canceled\n",
            "lead_time\n",
            "stays_in_weekend_nights\n",
            "stays_in_week_nights\n",
            "adults\n",
            "children\n",
            "babies\n",
            "meal\n",
            "country\n",
            "market_segment\n",
            "distribution_channel\n",
            "is_repeated_guest\n",
            "previous_cancellations\n",
            "previous_bookings_not_canceled\n",
            "reserved_room_type\n",
            "assigned_room_type\n",
            "booking_changes\n",
            "deposit_type\n",
            "agent\n",
            "company\n",
            "days_in_waiting_list\n",
            "customer_type\n",
            "adr\n",
            "required_car_parking_spaces\n",
            "total_of_special_requests\n"
          ]
        }
      ],
      "source": [
        "# Drop irrelevant columns\n",
        "columns_to_drop = ['arrival_date_year', 'arrival_date_month', 'arrival_date_week_number',\n",
        "                   'arrival_date_day_of_month', 'reservation_status_date', 'reservation_status']\n",
        "df.drop(columns_to_drop, axis=1, inplace=True)\n",
        "\n",
        "# Check the shape after dropping\n",
        "print(df.shape)\n",
        "\n",
        "# List columns one by one\n",
        "for col in df.columns:\n",
        "    print(col)"
      ]
    },
    {
      "cell_type": "markdown",
      "source": [
        "Dropped date-related columns as they are not useful for prediction.\n",
        "Dropped reservation_status as it directly reveals whether booking was canceled, which is our target variable.\n",
        "This reduces redundancy and prevents data leakage."
      ],
      "metadata": {
        "id": "wHjXfATITJwC"
      }
    },
    {
      "cell_type": "markdown",
      "metadata": {
        "id": "P_gLR3YnRTFf"
      },
      "source": [
        "## Unique values\n",
        "\n",
        "Find out unique values in columns. This will help you in identifying in-consistent data."
      ]
    },
    {
      "cell_type": "code",
      "execution_count": 6,
      "metadata": {
        "id": "kprpK-8NQx0E",
        "colab": {
          "base_uri": "https://localhost:8080/"
        },
        "outputId": "eb196a09-c499-49a3-cd57-1c9bfb044eb4"
      },
      "outputs": [
        {
          "output_type": "stream",
          "name": "stdout",
          "text": [
            "hotel: 2 unique values\n",
            "is_canceled: 2 unique values\n",
            "lead_time: 479 unique values\n",
            "stays_in_weekend_nights: 17 unique values\n",
            "stays_in_week_nights: 35 unique values\n",
            "adults: 14 unique values\n",
            "children: 5 unique values\n",
            "babies: 5 unique values\n",
            "meal: 5 unique values\n",
            "country: 177 unique values\n",
            "market_segment: 8 unique values\n",
            "distribution_channel: 5 unique values\n",
            "is_repeated_guest: 2 unique values\n",
            "previous_cancellations: 15 unique values\n",
            "previous_bookings_not_canceled: 73 unique values\n",
            "reserved_room_type: 10 unique values\n",
            "assigned_room_type: 12 unique values\n",
            "booking_changes: 21 unique values\n",
            "deposit_type: 3 unique values\n",
            "agent: 333 unique values\n",
            "company: 352 unique values\n",
            "days_in_waiting_list: 128 unique values\n",
            "customer_type: 4 unique values\n",
            "adr: 8879 unique values\n",
            "required_car_parking_spaces: 5 unique values\n",
            "total_of_special_requests: 6 unique values\n"
          ]
        }
      ],
      "source": [
        "# Check unique values for each column\n",
        "for col in df.columns:\n",
        "    print(f\"{col}: {df[col].nunique()} unique values\")"
      ]
    },
    {
      "cell_type": "markdown",
      "metadata": {
        "id": "uUImFV45PG4E"
      },
      "source": [
        "## 1.1 Missing Values (10%)\n",
        "\n",
        "Identify and handle missing values."
      ]
    },
    {
      "cell_type": "code",
      "execution_count": 7,
      "metadata": {
        "id": "c4eXcreOQxTD",
        "colab": {
          "base_uri": "https://localhost:8080/"
        },
        "outputId": "82cb0984-0725-48d4-cbb1-0b68cae7358f"
      },
      "outputs": [
        {
          "output_type": "stream",
          "name": "stdout",
          "text": [
            "hotel                                  0\n",
            "is_canceled                            0\n",
            "lead_time                              0\n",
            "stays_in_weekend_nights                0\n",
            "stays_in_week_nights                   0\n",
            "adults                                 0\n",
            "children                               4\n",
            "babies                                 0\n",
            "meal                                   0\n",
            "country                              488\n",
            "market_segment                         0\n",
            "distribution_channel                   0\n",
            "is_repeated_guest                      0\n",
            "previous_cancellations                 0\n",
            "previous_bookings_not_canceled         0\n",
            "reserved_room_type                     0\n",
            "assigned_room_type                     0\n",
            "booking_changes                        0\n",
            "deposit_type                           0\n",
            "agent                              16340\n",
            "company                           112593\n",
            "days_in_waiting_list                   0\n",
            "customer_type                          0\n",
            "adr                                    0\n",
            "required_car_parking_spaces            0\n",
            "total_of_special_requests              0\n",
            "dtype: int64\n"
          ]
        }
      ],
      "source": [
        "# Check missing values\n",
        "print(df.isnull().sum())"
      ]
    },
    {
      "cell_type": "code",
      "source": [
        "# Drop 'company' and 'agent' columns - too many missing values\n",
        "df.drop(['company', 'agent'], axis=1, inplace=True)\n",
        "\n",
        "# Fill 'children' with 0 (assume no children if missing)\n",
        "df['children'] = df['children'].fillna(0)\n",
        "\n",
        "# Fill 'country' with 'Unknown' (categorical column)\n",
        "df['country'] = df['country'].fillna('Unknown')\n",
        "\n",
        "# Verify no missing values remain\n",
        "print(df.isnull().sum())"
      ],
      "metadata": {
        "colab": {
          "base_uri": "https://localhost:8080/"
        },
        "id": "xCsyWWJjUFzB",
        "outputId": "26945e50-fca6-4ad4-e1cd-f3f128708a2e"
      },
      "execution_count": 8,
      "outputs": [
        {
          "output_type": "stream",
          "name": "stdout",
          "text": [
            "hotel                             0\n",
            "is_canceled                       0\n",
            "lead_time                         0\n",
            "stays_in_weekend_nights           0\n",
            "stays_in_week_nights              0\n",
            "adults                            0\n",
            "children                          0\n",
            "babies                            0\n",
            "meal                              0\n",
            "country                           0\n",
            "market_segment                    0\n",
            "distribution_channel              0\n",
            "is_repeated_guest                 0\n",
            "previous_cancellations            0\n",
            "previous_bookings_not_canceled    0\n",
            "reserved_room_type                0\n",
            "assigned_room_type                0\n",
            "booking_changes                   0\n",
            "deposit_type                      0\n",
            "days_in_waiting_list              0\n",
            "customer_type                     0\n",
            "adr                               0\n",
            "required_car_parking_spaces       0\n",
            "total_of_special_requests         0\n",
            "dtype: int64\n"
          ]
        }
      ]
    },
    {
      "cell_type": "markdown",
      "source": [
        "Dropped 'company' and 'agent' columns due to high percentage of missing values.\n",
        "Filled 'children' with 0 assuming no children when not specified.\n",
        "Filled 'country' with 'Unknown' to retain rows while handling missing categorical data."
      ],
      "metadata": {
        "id": "t3i6nwRtUQ05"
      }
    },
    {
      "cell_type": "markdown",
      "metadata": {
        "id": "1Qiv5MThgpgM"
      },
      "source": [
        "## 1.2 Removing Inconsistent values and Outliers (10%)\n",
        "\n",
        "Detecting inconsistencies can be achieved through a variety of methods. Some can be identified by examining unique values within each column, while others may require a solid understanding of the problem domain. Since you might not be an expert in the hotel or hospitality industry, here are some helpful hints:\n",
        "\n",
        "Hints:\n",
        "\n",
        "1. Check for incomplete bookings, such as reservations with zero adults, babies, or children.\n",
        "2. Examine rows with zeros in both 'stays_in_weekend_nights' and 'stays_in_week_nights.'\n",
        "\n"
      ]
    },
    {
      "cell_type": "code",
      "execution_count": 9,
      "metadata": {
        "id": "qNukKr-XQzc7",
        "colab": {
          "base_uri": "https://localhost:8080/"
        },
        "outputId": "2cfa2dfe-744f-4c73-98fa-78a72bef5ee3"
      },
      "outputs": [
        {
          "output_type": "stream",
          "name": "stdout",
          "text": [
            "Bookings with zero guests: 180\n",
            "Bookings with zero nights: 715\n"
          ]
        }
      ],
      "source": [
        "# Check for bookings with zero guests (no adults, children, or babies)\n",
        "zero_guests = df[(df['adults'] == 0) & (df['children'] == 0) & (df['babies'] == 0)]\n",
        "print(f\"Bookings with zero guests: {len(zero_guests)}\")\n",
        "\n",
        "# Check for bookings with zero nights stay\n",
        "zero_nights = df[(df['stays_in_weekend_nights'] == 0) & (df['stays_in_week_nights'] == 0)]\n",
        "print(f\"Bookings with zero nights: {len(zero_nights)}\")"
      ]
    },
    {
      "cell_type": "code",
      "source": [
        "# Remove bookings with zero guests\n",
        "df = df.drop(df[(df['adults'] == 0) & (df['children'] == 0) & (df['babies'] == 0)].index)\n",
        "\n",
        "# Remove bookings with zero nights stay\n",
        "df = df.drop(df[(df['stays_in_weekend_nights'] == 0) & (df['stays_in_week_nights'] == 0)].index)\n",
        "\n",
        "# Check shape after removing inconsistent data\n",
        "print(df.shape)"
      ],
      "metadata": {
        "colab": {
          "base_uri": "https://localhost:8080/"
        },
        "id": "N3W4dLKMUdAQ",
        "outputId": "7a5d6899-251d-464b-b893-6d58661e168f"
      },
      "execution_count": 10,
      "outputs": [
        {
          "output_type": "stream",
          "name": "stdout",
          "text": [
            "(118565, 24)\n"
          ]
        }
      ]
    },
    {
      "cell_type": "markdown",
      "source": [
        "Removed bookings with zero guests as these are incomplete/invalid reservations.\n",
        "Removed bookings with zero nights stay as these do not represent actual hotel stays."
      ],
      "metadata": {
        "id": "mu55ZbmRUgL3"
      }
    },
    {
      "cell_type": "code",
      "source": [
        "df.plot(y='adr', kind='box')\n",
        "plt.yticks(range(0, 6000, 500))\n",
        "plt.show()\n",
        "\n",
        "# Check ADR statistics\n",
        "print(df['adr'].describe())\n",
        "print(f\"Maximum ADR: {df['adr'].max()}\")\n",
        "print(f\"Minimum ADR: {df['adr'].min()}\")\n",
        "\n",
        "# Count extreme values\n",
        "print(f\"ADR above 1000: {len(df[df['adr'] > 1000])}\")\n",
        "print(f\"Negative ADR: {len(df[df['adr'] < 0])}\")"
      ],
      "metadata": {
        "colab": {
          "base_uri": "https://localhost:8080/",
          "height": 656
        },
        "id": "FA6xEeoYUvBP",
        "outputId": "81c11c19-cbe8-4164-d7f0-f631cf51b187"
      },
      "execution_count": 11,
      "outputs": [
        {
          "output_type": "display_data",
          "data": {
            "text/plain": [
              "<Figure size 640x480 with 1 Axes>"
            ],
            "image/png": "[encoded data removed]"
          },
          "metadata": {}
        },
        {
          "output_type": "stream",
          "name": "stdout",
          "text": [
            "count    118565.000000\n",
            "mean        102.523809\n",
            "std          50.005542\n",
            "min          -6.380000\n",
            "25%          70.000000\n",
            "50%          95.000000\n",
            "75%         126.000000\n",
            "max        5400.000000\n",
            "Name: adr, dtype: float64\n",
            "Maximum ADR: 5400.0\n",
            "Minimum ADR: -6.38\n",
            "ADR above 1000: 1\n",
            "Negative ADR: 1\n"
          ]
        }
      ]
    },
    {
      "cell_type": "code",
      "source": [
        "# Remove negative and extremely high ADR values\n",
        "df = df[df['adr'] >= 0]\n",
        "df = df[df['adr'] < 1000]\n",
        "\n",
        "print(df.shape)"
      ],
      "metadata": {
        "colab": {
          "base_uri": "https://localhost:8080/"
        },
        "id": "c3fkxGjEVSDf",
        "outputId": "7ab87cbf-d48e-4908-b82b-89d27485ff13"
      },
      "execution_count": 12,
      "outputs": [
        {
          "output_type": "stream",
          "name": "stdout",
          "text": [
            "(118563, 24)\n"
          ]
        }
      ]
    },
    {
      "cell_type": "code",
      "source": [
        "df.plot(y='adr', kind='box')\n",
        "plt.yticks(range(0, 600, 50))\n",
        "plt.show()"
      ],
      "metadata": {
        "id": "oM2zcu4ZWJQl",
        "outputId": "15d2ecd2-09ca-438f-e04d-e399f2d81f22",
        "colab": {
          "base_uri": "https://localhost:8080/",
          "height": 435
        }
      },
      "execution_count": 13,
      "outputs": [
        {
          "output_type": "display_data",
          "data": {
            "text/plain": [
              "<Figure size 640x480 with 1 Axes>"
            ],
            "image/png": "[encoded data removed]"
          },
          "metadata": {}
        }
      ]
    },
    {
      "cell_type": "markdown",
      "source": [
        "Removed negative ADR values and extreme outliers above 1000."
      ],
      "metadata": {
        "id": "5PAxKfN1WNud"
      }
    },
    {
      "cell_type": "markdown",
      "metadata": {
        "id": "L3rKsEvVPKG3"
      },
      "source": [
        "## 1.3 Column data type conversion (5%)\n",
        "\n",
        "All necessary columns should be correctly converted to appropriate data types.\n"
      ]
    },
    {
      "cell_type": "code",
      "execution_count": 14,
      "metadata": {
        "id": "I5RMB4pfPKG3",
        "outputId": "3f0b01bc-847a-4130-fac0-09dd57f0ebcc",
        "colab": {
          "base_uri": "https://localhost:8080/"
        }
      },
      "outputs": [
        {
          "output_type": "stream",
          "name": "stdout",
          "text": [
            "hotel                              object\n",
            "is_canceled                         int64\n",
            "lead_time                           int64\n",
            "stays_in_weekend_nights             int64\n",
            "stays_in_week_nights                int64\n",
            "adults                              int64\n",
            "children                          float64\n",
            "babies                              int64\n",
            "meal                               object\n",
            "country                            object\n",
            "market_segment                     object\n",
            "distribution_channel               object\n",
            "is_repeated_guest                   int64\n",
            "previous_cancellations              int64\n",
            "previous_bookings_not_canceled      int64\n",
            "reserved_room_type                 object\n",
            "assigned_room_type                 object\n",
            "booking_changes                     int64\n",
            "deposit_type                       object\n",
            "days_in_waiting_list                int64\n",
            "customer_type                      object\n",
            "adr                               float64\n",
            "required_car_parking_spaces         int64\n",
            "total_of_special_requests           int64\n",
            "dtype: object\n"
          ]
        }
      ],
      "source": [
        "# Check current data types\n",
        "print(df.dtypes)"
      ]
    },
    {
      "cell_type": "code",
      "source": [
        "# Convert 'children' from float to int\n",
        "df['children'] = df['children'].astype('int64')\n",
        "\n",
        "# Convert categorical columns to 'category' type\n",
        "df['hotel'] = df['hotel'].astype('category')\n",
        "df['meal'] = df['meal'].astype('category')\n",
        "df['country'] = df['country'].astype('category')\n",
        "df['market_segment'] = df['market_segment'].astype('category')\n",
        "df['distribution_channel'] = df['distribution_channel'].astype('category')\n",
        "df['reserved_room_type'] = df['reserved_room_type'].astype('category')\n",
        "df['assigned_room_type'] = df['assigned_room_type'].astype('category')\n",
        "df['deposit_type'] = df['deposit_type'].astype('category')\n",
        "df['customer_type'] = df['customer_type'].astype('category')\n",
        "\n",
        "# Verify conversions\n",
        "print(df.dtypes)"
      ],
      "metadata": {
        "id": "t0tDOtLNXWWT",
        "outputId": "149bd251-6c74-4a3a-d144-670ed01bc88a",
        "colab": {
          "base_uri": "https://localhost:8080/"
        }
      },
      "execution_count": 15,
      "outputs": [
        {
          "output_type": "stream",
          "name": "stdout",
          "text": [
            "hotel                             category\n",
            "is_canceled                          int64\n",
            "lead_time                            int64\n",
            "stays_in_weekend_nights              int64\n",
            "stays_in_week_nights                 int64\n",
            "adults                               int64\n",
            "children                             int64\n",
            "babies                               int64\n",
            "meal                              category\n",
            "country                           category\n",
            "market_segment                    category\n",
            "distribution_channel              category\n",
            "is_repeated_guest                    int64\n",
            "previous_cancellations               int64\n",
            "previous_bookings_not_canceled       int64\n",
            "reserved_room_type                category\n",
            "assigned_room_type                category\n",
            "booking_changes                      int64\n",
            "deposit_type                      category\n",
            "days_in_waiting_list                 int64\n",
            "customer_type                     category\n",
            "adr                                float64\n",
            "required_car_parking_spaces          int64\n",
            "total_of_special_requests            int64\n",
            "dtype: object\n"
          ]
        }
      ]
    },
    {
      "cell_type": "markdown",
      "source": [
        "Converted 'children' to integer for consistency.\n",
        "Categorical text columns to category type for efficient storage and processing."
      ],
      "metadata": {
        "id": "zTMy2e_ZXeeD"
      }
    },
    {
      "cell_type": "markdown",
      "metadata": {
        "id": "GKLLdSmuM3wJ"
      },
      "source": [
        "# 2. Exploratory Data Analysis (25%)\n",
        "\n",
        "\n",
        "---\n",
        "\n",
        "\n",
        "\n",
        "\n",
        "\n",
        "You've also been provided with examples of valuable insights that could be of interest to hotel management, including:\n",
        "\n",
        "* Calculating cancellation percentages for City and Resort hotels.\n",
        "* Identifying the most frequently ordered meal types.\n",
        "* Determining the number of returning guests.\n",
        "* Discovering the most booked room types.\n",
        "* Exploring correlations between room types and cancellations.\n",
        "\n",
        "\n",
        "For each of these tasks, choose a suitable type of visualisation covered in\n",
        "the practical sessions, such as:\n",
        "\n",
        "* Bar graphs\n",
        "* Pie charts\n",
        "* Line charts\n",
        "* Heatmaps"
      ]
    },
    {
      "cell_type": "markdown",
      "metadata": {
        "id": "PPYejI-BPKG3"
      },
      "source": [
        "## 2.1. Calculating cancellation percentages for City and Resort hotels."
      ]
    },
    {
      "cell_type": "code",
      "execution_count": 16,
      "metadata": {
        "id": "CyBKkMrMQ088",
        "outputId": "0996d5bc-6005-4a42-dca7-a71835ccaf62",
        "colab": {
          "base_uri": "https://localhost:8080/",
          "height": 702
        }
      },
      "outputs": [
        {
          "output_type": "stream",
          "name": "stdout",
          "text": [
            "Cancellation Rates by Hotel Type:\n",
            "hotel\n",
            "City Hotel      41.90854\n",
            "Resort Hotel    28.00958\n",
            "Name: is_canceled, dtype: float64\n"
          ]
        },
        {
          "output_type": "stream",
          "name": "stderr",
          "text": [
            "/tmp/ipython-input-1036520296.py:2: FutureWarning: The default of observed=False is deprecated and will be changed to True in a future version of pandas. Pass observed=False to retain current behavior or observed=True to adopt the future default and silence this warning.\n",
            "  cancel_rate = df.groupby('hotel')['is_canceled'].mean() * 100\n"
          ]
        },
        {
          "output_type": "execute_result",
          "data": {
            "text/plain": [
              "<Axes: title={'center': 'Hotel Cancellation Rates'}, xlabel='Hotel Type', ylabel='Cancellation Rate (%)'>"
            ]
          },
          "metadata": {},
          "execution_count": 16
        },
        {
          "output_type": "display_data",
          "data": {
            "text/plain": [
              "<Figure size 640x480 with 1 Axes>"
            ],
            "image/png": "[encoded data removed]"
          },
          "metadata": {}
        }
      ],
      "source": [
        "# Calculate cancellation rate for each hotel type\n",
        "cancel_rate = df.groupby('hotel')['is_canceled'].mean() * 100\n",
        "\n",
        "print(\"Cancellation Rates by Hotel Type:\")\n",
        "print(cancel_rate)\n",
        "\n",
        "# Create bar chart with clear labels\n",
        "cancel_rate.plot(kind='bar',\n",
        "                 title='Hotel Cancellation Rates',\n",
        "                 ylabel='Cancellation Rate (%)',\n",
        "                 xlabel='Hotel Type')"
      ]
    },
    {
      "cell_type": "markdown",
      "source": [
        "City Hotel have a higher cancellation rate compared to Resort Hotel\n",
        "\n",
        "Resort Hotel show more stable bookings, possibly due to advance planning for vacations"
      ],
      "metadata": {
        "id": "OX3r6ncDar1e"
      }
    },
    {
      "cell_type": "markdown",
      "metadata": {
        "id": "XenFMCRGPKG4"
      },
      "source": [
        "## 2.2. Identifying the most frequently ordered meal types."
      ]
    },
    {
      "cell_type": "code",
      "execution_count": 17,
      "metadata": {
        "id": "jpBDPS6QPKG4",
        "outputId": "7be1392c-167f-4423-aa5e-db135739ec8e",
        "colab": {
          "base_uri": "https://localhost:8080/",
          "height": 740
        }
      },
      "outputs": [
        {
          "output_type": "stream",
          "name": "stdout",
          "text": [
            "Meal Type Frequencies:\n",
            "meal\n",
            "BB           91719\n",
            "HB           14384\n",
            "SC           10503\n",
            "Undefined     1160\n",
            "FB             797\n",
            "Name: count, dtype: int64\n",
            "\n",
            "Percentages:\n",
            "meal\n",
            "BB           77.358872\n",
            "HB           12.131947\n",
            "SC            8.858582\n",
            "Undefined     0.978383\n",
            "FB            0.672216\n",
            "Name: proportion, dtype: float64\n"
          ]
        },
        {
          "output_type": "execute_result",
          "data": {
            "text/plain": [
              "<Axes: title={'center': 'Meal Type Distribution'}>"
            ]
          },
          "metadata": {},
          "execution_count": 17
        },
        {
          "output_type": "display_data",
          "data": {
            "text/plain": [
              "<Figure size 640x480 with 1 Axes>"
            ],
            "image/png": "[encoded data removed]"
          },
          "metadata": {}
        }
      ],
      "source": [
        "# Count meal types and calculate percentages\n",
        "meal_counts = df['meal'].value_counts()\n",
        "meal_percent = df['meal'].value_counts(normalize=True) * 100\n",
        "\n",
        "print(\"Meal Type Frequencies:\")\n",
        "print(meal_counts)\n",
        "print(\"\\nPercentages:\")\n",
        "print(meal_percent)\n",
        "\n",
        "# Create labels with percentages for legend\n",
        "labels = [f'{meal} ({percent:.1f}%)' for meal, percent in zip(meal_percent.index, meal_percent)]\n",
        "\n",
        "# Pie chart with percentages in legend\n",
        "meal_counts.plot(kind='pie',\n",
        "                 title='Meal Type Distribution',\n",
        "                 labels=labels,\n",
        "                 legend=True,\n",
        "                 ylabel='')"
      ]
    },
    {
      "cell_type": "code",
      "source": [
        "# Bar chart\n",
        "meal_counts.plot(kind='bar',\n",
        "                 title='Most Frequently Ordered Meal Types',\n",
        "                 xlabel='Meal Type',\n",
        "                 ylabel='Number of Bookings')"
      ],
      "metadata": {
        "id": "-6IXeTV2aePl",
        "outputId": "cc0ec65b-7209-4a04-bf94-d417cb9f9b4d",
        "colab": {
          "base_uri": "https://localhost:8080/",
          "height": 546
        }
      },
      "execution_count": 18,
      "outputs": [
        {
          "output_type": "execute_result",
          "data": {
            "text/plain": [
              "<Axes: title={'center': 'Most Frequently Ordered Meal Types'}, xlabel='Meal Type', ylabel='Number of Bookings'>"
            ]
          },
          "metadata": {},
          "execution_count": 18
        },
        {
          "output_type": "display_data",
          "data": {
            "text/plain": [
              "<Figure size 640x480 with 1 Axes>"
            ],
            "image/png": "[encoded data removed]"
          },
          "metadata": {}
        }
      ]
    },
    {
      "cell_type": "markdown",
      "source": [
        "I ended up creating a bar chart for this as well as a pie chart as I did not feel the pie chart was very clear.\n",
        "\n",
        "BB (Bed & Breakfast) is the most frequently ordered meal type, indicating guests prefer flexibility\n",
        "\n",
        "FB (Full Board) and HB (Half Board) are less popular, suggesting guests may prefer dining outside\n",
        "\n",
        "SC (Self Catering) and Undefined meals represent a smaller portion of bookings\n"
      ],
      "metadata": {
        "id": "2mkmpHs1a4MD"
      }
    },
    {
      "cell_type": "markdown",
      "metadata": {
        "id": "WgHdPzbWPKG4"
      },
      "source": [
        "## 2.3. Determining the number of returning guests."
      ]
    },
    {
      "cell_type": "code",
      "execution_count": 19,
      "metadata": {
        "id": "rcXuA-4APKG4",
        "outputId": "50eb37df-60c6-4db4-a754-0963b17636c3",
        "colab": {
          "base_uri": "https://localhost:8080/",
          "height": 636
        }
      },
      "outputs": [
        {
          "output_type": "stream",
          "name": "stdout",
          "text": [
            "Returning Guests:\n",
            "is_repeated_guest\n",
            "0    115065\n",
            "1      3498\n",
            "Name: count, dtype: int64\n",
            "\n",
            "Percentages:\n",
            "is_repeated_guest\n",
            "0    97.04967\n",
            "1     2.95033\n",
            "Name: proportion, dtype: float64\n"
          ]
        },
        {
          "output_type": "execute_result",
          "data": {
            "text/plain": [
              "<Axes: title={'center': 'Guest Type Distribution'}>"
            ]
          },
          "metadata": {},
          "execution_count": 19
        },
        {
          "output_type": "display_data",
          "data": {
            "text/plain": [
              "<Figure size 640x480 with 1 Axes>"
            ],
            "image/png": "[encoded data removed]"
          },
          "metadata": {}
        }
      ],
      "source": [
        "# Count returning vs new guests\n",
        "guest_counts = df['is_repeated_guest'].value_counts()\n",
        "guest_percent = df['is_repeated_guest'].value_counts(normalize=True) * 100\n",
        "\n",
        "print(\"Returning Guests:\")\n",
        "print(guest_counts)\n",
        "print(\"\\nPercentages:\")\n",
        "print(guest_percent)\n",
        "\n",
        "# Pie chart with clear labels\n",
        "guest_counts.plot(kind='pie',\n",
        "                  title='Guest Type Distribution',\n",
        "                  labels=['New Guest', 'Returning Guest'],\n",
        "                  autopct='%1.1f%%',\n",
        "                  ylabel='')"
      ]
    },
    {
      "cell_type": "markdown",
      "source": [
        "Pie chart is ideal for this binary problem (only 2 categories: new vs returning)\n",
        "\n",
        "Shows proportion clearly - easy to see the split at a glance\n",
        "\n",
        "Percentages make it simple to understand customer retention rate\n",
        "\n",
        "The vast majority of guests are new guests (first-time visitors)\n",
        "\n",
        "Very low percentage of returning guests indicates potential issues with customer loyalty\n",
        "\n",
        "\n"
      ],
      "metadata": {
        "id": "2HsBF70AbkxD"
      }
    },
    {
      "cell_type": "markdown",
      "metadata": {
        "id": "H-YGfQKiPKG4"
      },
      "source": [
        "## 2.4. Discovering the most booked room types."
      ]
    },
    {
      "cell_type": "code",
      "execution_count": 20,
      "metadata": {
        "id": "nc57qHhpPKG4",
        "outputId": "4327cb84-f0d2-4c5a-c70d-fc4a2f30ff3e",
        "colab": {
          "base_uri": "https://localhost:8080/",
          "height": 694
        }
      },
      "outputs": [
        {
          "output_type": "stream",
          "name": "stdout",
          "text": [
            "Room Type Frequencies:\n",
            "reserved_room_type\n",
            "A    85396\n",
            "D    19096\n",
            "E     6482\n",
            "F     2879\n",
            "G     2074\n",
            "B     1110\n",
            "C      923\n",
            "H      597\n",
            "L        6\n",
            "Name: count, dtype: int64\n"
          ]
        },
        {
          "output_type": "execute_result",
          "data": {
            "text/plain": [
              "<Axes: title={'center': 'Most Booked Room Types'}, xlabel='Room Type', ylabel='Number of Bookings'>"
            ]
          },
          "metadata": {},
          "execution_count": 20
        },
        {
          "output_type": "display_data",
          "data": {
            "text/plain": [
              "<Figure size 640x480 with 1 Axes>"
            ],
            "image/png": "[encoded data removed]"
          },
          "metadata": {}
        }
      ],
      "source": [
        "# Count room types\n",
        "room_counts = df['reserved_room_type'].value_counts()\n",
        "\n",
        "print(\"Room Type Frequencies:\")\n",
        "print(room_counts)\n",
        "\n",
        "# Bar chart\n",
        "room_counts.plot(kind='bar',\n",
        "                 title='Most Booked Room Types',\n",
        "                 xlabel='Room Type',\n",
        "                 ylabel='Number of Bookings')"
      ]
    },
    {
      "cell_type": "markdown",
      "source": [
        "Bar chart is ideal for comparing multiple categories\n",
        "\n",
        "Easy to identify the most and least popular room types\n",
        "\n",
        "Clear visual comparison of booking frequencies\n",
        "\n",
        "Shows which room types are in highest demand\n",
        "\n",
        "Helps hotels optimise inventory and pricing strategies\n",
        "\n",
        "Identifies underutilised room types that may need marketing or renovation\n"
      ],
      "metadata": {
        "id": "b3oYkSsQce5g"
      }
    },
    {
      "cell_type": "markdown",
      "metadata": {
        "id": "Nl3tvHk7PKG5"
      },
      "source": [
        "## 2.5. Exploring correlations between room types and cancellations."
      ]
    },
    {
      "cell_type": "code",
      "source": [
        "# Create crosstab normalized to percentages\n",
        "room_cancel = pd.crosstab(df['reserved_room_type'], df['is_canceled'], normalize='index') * 100\n",
        "\n",
        "print(\"Room Type vs Cancellation (%):\")\n",
        "print(room_cancel)\n",
        "\n",
        "# Stacked bar chart with percentages\n",
        "room_cancel.plot(kind='bar',\n",
        "                 stacked=True,\n",
        "                 title='Room Type vs Cancellation Rate',\n",
        "                 xlabel='Room Type',\n",
        "                 ylabel='Percentage (%)',\n",
        "                 color=['green', 'red'])\n",
        "plt.legend(['Not Canceled', 'Canceled'])\n",
        "plt.show()"
      ],
      "metadata": {
        "id": "clfXf_GSeXdd",
        "outputId": "35f85d5b-abfb-4cdc-bbc1-768277adf025",
        "colab": {
          "base_uri": "https://localhost:8080/",
          "height": 676
        }
      },
      "execution_count": 30,
      "outputs": [
        {
          "output_type": "stream",
          "name": "stdout",
          "text": [
            "Room Type vs Cancellation (%):\n",
            "is_canceled                 0          1\n",
            "reserved_room_type                      \n",
            "A                   60.646869  39.353131\n",
            "B                   66.936937  33.063063\n",
            "C                   66.738895  33.261105\n",
            "D                   68.066611  31.933389\n",
            "E                   70.580068  29.419932\n",
            "F                   69.433831  30.566169\n",
            "G                   63.211186  36.788814\n",
            "H                   58.961474  41.038526\n",
            "L                   66.666667  33.333333\n"
          ]
        },
        {
          "output_type": "display_data",
          "data": {
            "text/plain": [
              "<Figure size 640x480 with 1 Axes>"
            ],
            "image/png": "[encoded data removed]"
          },
          "metadata": {}
        }
      ]
    },
    {
      "cell_type": "markdown",
      "source": [
        "normalize='index' makes each room type total 100%\n",
        "\n",
        "Shows cancellation rate rather than raw counts\n",
        "\n",
        "Makes it easy to compare across room types fairly\n",
        "\n",
        "Each bar represents 100% of bookings for each room type\n",
        "\n",
        "Red portion shows the cancellation rate percentage\n",
        "\n",
        "Fair comparison regardless of booking volume"
      ],
      "metadata": {
        "id": "1Lne5boHd7yI"
      }
    },
    {
      "cell_type": "markdown",
      "metadata": {
        "id": "o5SKAFmDM3z5"
      },
      "source": [
        "# 3. Feature Engineering (20%)\n",
        "\n",
        "\n",
        "---\n",
        "\n",
        "\n",
        "\n",
        "\n",
        "\n",
        "Apply various feature engineering techniques, covered in the lectures and practicals.\n",
        "\n",
        "Hint:\n",
        "* Binning\n",
        "* Encoding\n",
        "* Scaling\n",
        "* Feature selection"
      ]
    },
    {
      "cell_type": "code",
      "execution_count": 23,
      "metadata": {
        "id": "iSHisXIpPKG6"
      },
      "outputs": [],
      "source": [
        "# <<< Your code here >>>"
      ]
    },
    {
      "cell_type": "markdown",
      "metadata": {
        "id": "P29DufVRM33h"
      },
      "source": [
        "# 4. Classifier Training (20%)\n",
        "\n",
        "\n",
        "---\n",
        "\n",
        "\n",
        "Utilise the sklearn Python library to train a ML model (e.g.decision tree classifier). Your process should start with splitting your dataset into input features (X) and a target feature (y). Next, divide the data into 70% training and 30% testing subsets. Train your model on the training dataset and evaluate using test dataset with appropriate metrics. Aim to achieve higher accuracy e.g. more than 70% accuracy using your model."
      ]
    },
    {
      "cell_type": "markdown",
      "metadata": {
        "id": "umfOL24DPKG6"
      },
      "source": [
        "## 4.1. Data Splitting (5%)"
      ]
    },
    {
      "cell_type": "code",
      "execution_count": 24,
      "metadata": {
        "id": "Gps2vXHySuBX"
      },
      "outputs": [],
      "source": [
        "# <<< Your code here >>>"
      ]
    },
    {
      "cell_type": "markdown",
      "metadata": {
        "id": "RJcOGD9dPKG7"
      },
      "source": [
        "## 4.2. Model Training (10%)"
      ]
    },
    {
      "cell_type": "code",
      "execution_count": 25,
      "metadata": {
        "id": "jlhsV0ktPKG7"
      },
      "outputs": [],
      "source": [
        "# <<< Your code here >>>"
      ]
    },
    {
      "cell_type": "markdown",
      "metadata": {
        "id": "rI0JMxRXPKG8"
      },
      "source": [
        "## 4.3. Model Evaluation (5%)"
      ]
    },
    {
      "cell_type": "code",
      "execution_count": 26,
      "metadata": {
        "id": "tJS1HdmGSuY_"
      },
      "outputs": [],
      "source": [
        "# <<< Your code here >>>"
      ]
    },
    {
      "cell_type": "markdown",
      "metadata": {
        "id": "rBa3rsiSM365"
      },
      "source": [
        "# 5. Feature Importance (10%)\n",
        "\n",
        "\n",
        "---\n",
        "\n",
        "Assess the importance of features within your decision tree model. Provide commentary on the reliability of your model's results based on the feature importance scores."
      ]
    },
    {
      "cell_type": "code",
      "execution_count": 27,
      "metadata": {
        "id": "y0P8oWvPUBX7"
      },
      "outputs": [],
      "source": [
        "# <<< Your code here >>>"
      ]
    }
  ],
  "metadata": {
    "colab": {
      "provenance": [],
      "gpuType": "T4",
      "include_colab_link": true
    },
    "kernelspec": {
      "display_name": "Python 3",
      "name": "python3"
    },
    "language_info": {
      "codemirror_mode": {
        "name": "ipython",
        "version": 3
      },
      "file_extension": ".py",
      "mimetype": "text/x-python",
      "name": "python",
      "nbconvert_exporter": "python",
      "pygments_lexer": "ipython3",
      "version": "3.11.5"
    },
    "accelerator": "GPU"
  },
  "nbformat": 4,
  "nbformat_minor": 0
}