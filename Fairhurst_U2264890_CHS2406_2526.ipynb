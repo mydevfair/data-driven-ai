{
  "cells": [
    {
      "cell_type": "markdown",
      "metadata": {
        "id": "view-in-github",
        "colab_type": "text"
      },
      "source": [
        "<a href=\"https://colab.research.google.com/github/mydevfair/data-driven-ai/blob/main/Fairhurst_U2264890_CHS2406_2526.ipynb\" target=\"_parent\"><img src=\"https://colab.research.google.com/assets/colab-badge.svg\" alt=\"Open In Colab\"/></a>"
      ]
    },
    {
      "cell_type": "markdown",
      "metadata": {
        "id": "T5PuoTGxM25j"
      },
      "source": [
        "# Hotel Booking Cancallation Prediction"
      ]
    },
    {
      "cell_type": "markdown",
      "metadata": {
        "id": "0Q8SI3lyNoHH"
      },
      "source": [
        "**Load Data**\n",
        "\n",
        "Load Hotel_Booking/hotel_bookings.csv file provided on Brightspace."
      ]
    },
    {
      "cell_type": "code",
      "execution_count": 2,
      "metadata": {
        "id": "fdv3RPXnOfvf"
      },
      "outputs": [],
      "source": [
        "import pandas as pd\n",
        "\n",
        "# Read the CSV file into the Dataframe\n",
        "fulldata_df = pd.read_csv(\"/content/hotel_bookings.csv\")"
      ]
    },
    {
      "cell_type": "markdown",
      "metadata": {
        "id": "NauE96owM3sR"
      },
      "source": [
        "# 1. Data Pre-processing (25%)\n",
        "\n",
        "\n",
        "---\n",
        "\n",
        "\n",
        "\n",
        "\n"
      ]
    },
    {
      "cell_type": "markdown",
      "metadata": {
        "id": "HZLqyiLUOnrV"
      },
      "source": [
        "**Drop irrelevant columns**\n",
        "\n",
        "It will significantly reduce the time and effort you need to invest. As a general guideline, columns containing IDs, dates, or irrelevant information are typically considered redundant and offer little value for predictive analysis."
      ]
    },
    {
      "cell_type": "code",
      "execution_count": 6,
      "metadata": {
        "id": "GSWv5wCDQyBM",
        "colab": {
          "base_uri": "https://localhost:8080/"
        },
        "outputId": "3b939bd2-52f3-419d-b5b2-3313997e9cca"
      },
      "outputs": [
        {
          "output_type": "stream",
          "name": "stdout",
          "text": [
            "\n",
            "First 10 rows using head(10):\n",
            "\n",
            "          hotel  is_canceled  lead_time  arrival_date_year arrival_date_month  \\\n",
            "0  Resort Hotel            0        342               2015               July   \n",
            "1  Resort Hotel            0        737               2015               July   \n",
            "2  Resort Hotel            0          7               2015               July   \n",
            "3  Resort Hotel            0         13               2015               July   \n",
            "4  Resort Hotel            0         14               2015               July   \n",
            "5  Resort Hotel            0         14               2015               July   \n",
            "6  Resort Hotel            0          0               2015               July   \n",
            "7  Resort Hotel            0          9               2015               July   \n",
            "8  Resort Hotel            1         85               2015               July   \n",
            "9  Resort Hotel            1         75               2015               July   \n",
            "\n",
            "   arrival_date_week_number  arrival_date_day_of_month  \\\n",
            "0                        27                          1   \n",
            "1                        27                          1   \n",
            "2                        27                          1   \n",
            "3                        27                          1   \n",
            "4                        27                          1   \n",
            "5                        27                          1   \n",
            "6                        27                          1   \n",
            "7                        27                          1   \n",
            "8                        27                          1   \n",
            "9                        27                          1   \n",
            "\n",
            "   stays_in_weekend_nights  stays_in_week_nights  adults  ...  deposit_type  \\\n",
            "0                        0                     0       2  ...    No Deposit   \n",
            "1                        0                     0       2  ...    No Deposit   \n",
            "2                        0                     1       1  ...    No Deposit   \n",
            "3                        0                     1       1  ...    No Deposit   \n",
            "4                        0                     2       2  ...    No Deposit   \n",
            "5                        0                     2       2  ...    No Deposit   \n",
            "6                        0                     2       2  ...    No Deposit   \n",
            "7                        0                     2       2  ...    No Deposit   \n",
            "8                        0                     3       2  ...    No Deposit   \n",
            "9                        0                     3       2  ...    No Deposit   \n",
            "\n",
            "   agent company days_in_waiting_list customer_type    adr  \\\n",
            "0    NaN     NaN                    0     Transient    0.0   \n",
            "1    NaN     NaN                    0     Transient    0.0   \n",
            "2    NaN     NaN                    0     Transient   75.0   \n",
            "3  304.0     NaN                    0     Transient   75.0   \n",
            "4  240.0     NaN                    0     Transient   98.0   \n",
            "5  240.0     NaN                    0     Transient   98.0   \n",
            "6    NaN     NaN                    0     Transient  107.0   \n",
            "7  303.0     NaN                    0     Transient  103.0   \n",
            "8  240.0     NaN                    0     Transient   82.0   \n",
            "9   15.0     NaN                    0     Transient  105.5   \n",
            "\n",
            "   required_car_parking_spaces  total_of_special_requests  reservation_status  \\\n",
            "0                            0                          0           Check-Out   \n",
            "1                            0                          0           Check-Out   \n",
            "2                            0                          0           Check-Out   \n",
            "3                            0                          0           Check-Out   \n",
            "4                            0                          1           Check-Out   \n",
            "5                            0                          1           Check-Out   \n",
            "6                            0                          0           Check-Out   \n",
            "7                            0                          1           Check-Out   \n",
            "8                            0                          1            Canceled   \n",
            "9                            0                          0            Canceled   \n",
            "\n",
            "  reservation_status_date  \n",
            "0              2015-07-01  \n",
            "1              2015-07-01  \n",
            "2              2015-07-02  \n",
            "3              2015-07-02  \n",
            "4              2015-07-03  \n",
            "5              2015-07-03  \n",
            "6              2015-07-03  \n",
            "7              2015-07-03  \n",
            "8              2015-05-06  \n",
            "9              2015-04-22  \n",
            "\n",
            "[10 rows x 32 columns]\n"
          ]
        }
      ],
      "source": [
        "#First off I display the head of the dataframe to get a feel of whta it actually contains\n",
        "print(\"\\nFirst 10 rows using head(10):\\n\")\n",
        "print(fulldata_df.head(10))"
      ]
    },
    {
      "cell_type": "code",
      "source": [
        "# Next I look for highly correlated features which will not add any value to the prediction model\n",
        "corr_matrix = fulldata_df.corr(numeric_only=True).abs()\n",
        "high_corr = [(col, corr_matrix[col][corr_matrix[col] > 0.9].index.tolist()) for col in corr_matrix.columns]\n",
        "print(high_corr)\n"
      ],
      "metadata": {
        "colab": {
          "base_uri": "https://localhost:8080/"
        },
        "id": "rF5eQfmZQeh1",
        "outputId": "0c412c71-8017-402d-e731-95144b69fe02"
      },
      "execution_count": 7,
      "outputs": [
        {
          "output_type": "stream",
          "name": "stdout",
          "text": [
            "[('is_canceled', ['is_canceled']), ('lead_time', ['lead_time']), ('arrival_date_year', ['arrival_date_year']), ('arrival_date_week_number', ['arrival_date_week_number']), ('arrival_date_day_of_month', ['arrival_date_day_of_month']), ('stays_in_weekend_nights', ['stays_in_weekend_nights']), ('stays_in_week_nights', ['stays_in_week_nights']), ('adults', ['adults']), ('children', ['children']), ('babies', ['babies']), ('is_repeated_guest', ['is_repeated_guest']), ('previous_cancellations', ['previous_cancellations']), ('previous_bookings_not_canceled', ['previous_bookings_not_canceled']), ('booking_changes', ['booking_changes']), ('agent', ['agent']), ('company', ['company']), ('days_in_waiting_list', ['days_in_waiting_list']), ('adr', ['adr']), ('required_car_parking_spaces', ['required_car_parking_spaces']), ('total_of_special_requests', ['total_of_special_requests'])]\n"
          ]
        }
      ]
    },
    {
      "cell_type": "markdown",
      "metadata": {
        "id": "P_gLR3YnRTFf"
      },
      "source": [
        "## Unique values\n",
        "\n",
        "Find out unique values in columns. This will help you in identifying in-consistent data."
      ]
    },
    {
      "cell_type": "code",
      "execution_count": null,
      "metadata": {
        "id": "kprpK-8NQx0E"
      },
      "outputs": [],
      "source": [
        "# <<< Your code here >>>"
      ]
    },
    {
      "cell_type": "markdown",
      "metadata": {
        "id": "uUImFV45PG4E"
      },
      "source": [
        "## 1.1 Missing Values (10%)\n",
        "\n",
        "Identify and handle missing values."
      ]
    },
    {
      "cell_type": "code",
      "execution_count": null,
      "metadata": {
        "id": "c4eXcreOQxTD"
      },
      "outputs": [],
      "source": [
        "# <<< Your code here >>>"
      ]
    },
    {
      "cell_type": "markdown",
      "metadata": {
        "id": "1Qiv5MThgpgM"
      },
      "source": [
        "## 1.2 Removing Inconsistent values and Outliers (10%)\n",
        "\n",
        "Detecting inconsistencies can be achieved through a variety of methods. Some can be identified by examining unique values within each column, while others may require a solid understanding of the problem domain. Since you might not be an expert in the hotel or hospitality industry, here are some helpful hints:\n",
        "\n",
        "Hints:\n",
        "\n",
        "1. Check for incomplete bookings, such as reservations with zero adults, babies, or children.\n",
        "2. Examine rows with zeros in both 'stays_in_weekend_nights' and 'stays_in_week_nights.'\n",
        "\n"
      ]
    },
    {
      "cell_type": "code",
      "execution_count": null,
      "metadata": {
        "id": "qNukKr-XQzc7"
      },
      "outputs": [],
      "source": [
        "# <<< Your code here >>>"
      ]
    },
    {
      "cell_type": "markdown",
      "metadata": {
        "id": "u5ENBxiML74B"
      },
      "source": [
        "## 1.3 Column data type conversion (5%)\n",
        "\n",
        "All necessary columns should be correctly converted to appropriate data types.\n"
      ]
    },
    {
      "cell_type": "code",
      "execution_count": null,
      "metadata": {
        "id": "xghbsQL_L74B"
      },
      "outputs": [],
      "source": [
        "# <<< Your code here >>>"
      ]
    },
    {
      "cell_type": "markdown",
      "metadata": {
        "id": "GKLLdSmuM3wJ"
      },
      "source": [
        "# 2. Exploratory Data Analysis (25%)\n",
        "\n",
        "\n",
        "---\n",
        "\n",
        "\n",
        "\n",
        "\n",
        "\n",
        "You've also been provided with examples of valuable insights that could be of interest to hotel management, including:\n",
        "\n",
        "* Calculating cancellation percentages for City and Resort hotels.\n",
        "* Identifying the most frequently ordered meal types.\n",
        "* Determining the number of returning guests.\n",
        "* Discovering the most booked room types.\n",
        "* Exploring correlations between room types and cancellations.\n",
        "\n",
        "\n",
        "For each of these tasks, choose a suitable type of visualisation covered in\n",
        "the practical sessions, such as:\n",
        "\n",
        "* Bar graphs\n",
        "* Pie charts\n",
        "* Line charts\n",
        "* Heatmaps"
      ]
    },
    {
      "cell_type": "markdown",
      "metadata": {
        "id": "6EdFVyzhL74B"
      },
      "source": [
        "## 2.1. Calculating cancellation percentages for City and Resort hotels."
      ]
    },
    {
      "cell_type": "code",
      "execution_count": null,
      "metadata": {
        "id": "CyBKkMrMQ088"
      },
      "outputs": [],
      "source": [
        "# <<< Your code here >>>"
      ]
    },
    {
      "cell_type": "markdown",
      "metadata": {
        "id": "e0zuyML3L74C"
      },
      "source": [
        "## 2.2. Identifying the most frequently ordered meal types."
      ]
    },
    {
      "cell_type": "code",
      "execution_count": null,
      "metadata": {
        "id": "VbQ_g9YZL74C"
      },
      "outputs": [],
      "source": [
        "# <<< Your code here >>>"
      ]
    },
    {
      "cell_type": "markdown",
      "metadata": {
        "id": "6_qGSGVwL74C"
      },
      "source": [
        "## 2.3. Determining the number of returning guests."
      ]
    },
    {
      "cell_type": "code",
      "execution_count": null,
      "metadata": {
        "id": "xyx1fqrDL74C"
      },
      "outputs": [],
      "source": [
        "# <<< Your code here >>>"
      ]
    },
    {
      "cell_type": "markdown",
      "metadata": {
        "id": "AWq_zdLiL74D"
      },
      "source": [
        "## 2.4. Discovering the most booked room types."
      ]
    },
    {
      "cell_type": "code",
      "execution_count": null,
      "metadata": {
        "id": "81LlCpaML74D"
      },
      "outputs": [],
      "source": [
        "# <<< Your code here >>>"
      ]
    },
    {
      "cell_type": "markdown",
      "metadata": {
        "id": "2ZiT-bKZL74D"
      },
      "source": [
        "## 2.5. Exploring correlations between room types and cancellations."
      ]
    },
    {
      "cell_type": "code",
      "execution_count": null,
      "metadata": {
        "id": "IEOgm4PkL74D"
      },
      "outputs": [],
      "source": [
        "# <<< Your code here >>>"
      ]
    },
    {
      "cell_type": "markdown",
      "metadata": {
        "id": "o5SKAFmDM3z5"
      },
      "source": [
        "# 3. Feature Engineering (20%)\n",
        "\n",
        "\n",
        "---\n",
        "\n",
        "\n",
        "\n",
        "\n",
        "\n",
        "Apply various feature engineering techniques, covered in the lectures and practicals.\n",
        "\n",
        "Hint:\n",
        "* Binning\n",
        "* Encoding\n",
        "* Scaling\n",
        "* Feature selection"
      ]
    },
    {
      "cell_type": "code",
      "execution_count": null,
      "metadata": {
        "id": "JQnIHQHRL74D"
      },
      "outputs": [],
      "source": [
        "# <<< Your code here >>>"
      ]
    },
    {
      "cell_type": "markdown",
      "metadata": {
        "id": "P29DufVRM33h"
      },
      "source": [
        "# 4. Classifier Training (20%)\n",
        "\n",
        "\n",
        "---\n",
        "\n",
        "\n",
        "Utilise the sklearn Python library to train a ML model (e.g.decision tree classifier). Your process should start with splitting your dataset into input features (X) and a target feature (y). Next, divide the data into 70% training and 30% testing subsets. Train your model on the training dataset and evaluate using test dataset with appropriate metrics. Aim to achieve higher accuracy e.g. more than 70% accuracy using your model."
      ]
    },
    {
      "cell_type": "markdown",
      "metadata": {
        "id": "YWj0xe1tL74E"
      },
      "source": [
        "## 4.1. Data Splitting (5%)"
      ]
    },
    {
      "cell_type": "code",
      "execution_count": null,
      "metadata": {
        "id": "Gps2vXHySuBX"
      },
      "outputs": [],
      "source": [
        "# <<< Your code here >>>"
      ]
    },
    {
      "cell_type": "markdown",
      "metadata": {
        "id": "SEl86OAoL74E"
      },
      "source": [
        "## 4.2. Model Training (10%)"
      ]
    },
    {
      "cell_type": "code",
      "execution_count": null,
      "metadata": {
        "id": "8Xk6rJYrL74E"
      },
      "outputs": [],
      "source": [
        "# <<< Your code here >>>"
      ]
    },
    {
      "cell_type": "markdown",
      "metadata": {
        "id": "2rQVkNakL74E"
      },
      "source": [
        "## 4.3. Model Evaluation (5%)"
      ]
    },
    {
      "cell_type": "code",
      "execution_count": null,
      "metadata": {
        "id": "tJS1HdmGSuY_"
      },
      "outputs": [],
      "source": [
        "# <<< Your code here >>>"
      ]
    },
    {
      "cell_type": "markdown",
      "metadata": {
        "id": "rBa3rsiSM365"
      },
      "source": [
        "# 5. Feature Importance (10%)\n",
        "\n",
        "\n",
        "---\n",
        "\n",
        "Assess the importance of features within your decision tree model. Provide commentary on the reliability of your model's results based on the feature importance scores."
      ]
    },
    {
      "cell_type": "code",
      "execution_count": null,
      "metadata": {
        "id": "y0P8oWvPUBX7"
      },
      "outputs": [],
      "source": [
        "# <<< Your code here >>>"
      ]
    }
  ],
  "metadata": {
    "colab": {
      "provenance": [],
      "include_colab_link": true
    },
    "kernelspec": {
      "display_name": "Python 3 (ipykernel)",
      "language": "python",
      "name": "python3"
    },
    "language_info": {
      "codemirror_mode": {
        "name": "ipython",
        "version": 3
      },
      "file_extension": ".py",
      "mimetype": "text/x-python",
      "name": "python",
      "nbconvert_exporter": "python",
      "pygments_lexer": "ipython3",
      "version": "3.11.5"
    }
  },
  "nbformat": 4,
  "nbformat_minor": 0
}